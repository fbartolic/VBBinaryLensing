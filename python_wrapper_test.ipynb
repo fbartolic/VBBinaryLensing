{
 "cells": [
  {
   "cell_type": "code",
   "execution_count": 1,
   "metadata": {},
   "outputs": [],
   "source": [
    "import VBBinaryLensingLibrary"
   ]
  },
  {
   "cell_type": "code",
   "execution_count": 2,
   "metadata": {},
   "outputs": [],
   "source": [
    "VBB = VBBinaryLensingLibrary.VBBinaryLensing()\n",
    "VBB.Tol = 1e-03\n",
    "\n",
    "s = 0.8\n",
    "q = 0.1\n",
    "\n",
    "y1 = 0.01\n",
    "y2 = 0.01\n",
    "Rs = 0.01\n",
    "\n",
    "a1_list = (0.2,0.3,0.51,0.6)\n",
    "mag_list = ()\n",
    "\n",
    "mag0 = VBB.BinaryMag0(s, q, y1, y2)\n",
    "mag2 = VBB.BinaryMag2(s, q, y1, y2, Rs)\n",
    "\n",
    "# MagMultidark = VBB.BinaryMagMultiDark(s, q, y1, y2, Rs, a1_list, 4, mag_list,  1e-03)"
   ]
  },
  {
   "cell_type": "code",
   "execution_count": 3,
   "metadata": {},
   "outputs": [
    {
     "name": "stdout",
     "output_type": "stream",
     "text": [
      "18.18544835997583 18.283392636922326\n"
     ]
    }
   ],
   "source": [
    "print(mag0, mag2)"
   ]
  },
  {
   "cell_type": "code",
   "execution_count": 5,
   "metadata": {},
   "outputs": [],
   "source": [
    "mycurves = VBB.PlotCrit(s, q)"
   ]
  },
  {
   "cell_type": "code",
   "execution_count": null,
   "metadata": {},
   "outputs": [],
   "source": [
    "mycurves.last.first.x2"
   ]
  },
  {
   "cell_type": "code",
   "execution_count": 9,
   "metadata": {},
   "outputs": [
    {
     "name": "stdout",
     "output_type": "stream",
     "text": [
      "Help on _curve in module VBBinaryLensingLibrary object:\n",
      "\n",
      "class _curve(pybind11_builtins.pybind11_object)\n",
      " |  Method resolution order:\n",
      " |      _curve\n",
      " |      pybind11_builtins.pybind11_object\n",
      " |      builtins.object\n",
      " |  \n",
      " |  Methods defined here:\n",
      " |  \n",
      " |  __init__(...)\n",
      " |      __init__(*args, **kwargs)\n",
      " |      Overloaded function.\n",
      " |      \n",
      " |      1. __init__(self: VBBinaryLensingLibrary._curve, arg0: VBBinaryLensingLibrary._point) -> None\n",
      " |      \n",
      " |      2. __init__(self: VBBinaryLensingLibrary._curve) -> None\n",
      " |  \n",
      " |  ----------------------------------------------------------------------\n",
      " |  Data descriptors defined here:\n",
      " |  \n",
      " |  first\n",
      " |  \n",
      " |  last\n",
      " |  \n",
      " |  next\n",
      " |  \n",
      " |  prev\n",
      " |  \n",
      " |  ----------------------------------------------------------------------\n",
      " |  Methods inherited from pybind11_builtins.pybind11_object:\n",
      " |  \n",
      " |  __new__(*args, **kwargs) from pybind11_builtins.pybind11_type\n",
      " |      Create and return a new object.  See help(type) for accurate signature.\n",
      "\n"
     ]
    }
   ],
   "source": [
    "help(mycurves.first)"
   ]
  },
  {
   "cell_type": "code",
   "execution_count": null,
   "metadata": {},
   "outputs": [],
   "source": []
  }
 ],
 "metadata": {
  "kernelspec": {
   "display_name": "Python 3.6",
   "language": "python",
   "name": "python3"
  },
  "language_info": {
   "codemirror_mode": {
    "name": "ipython",
    "version": 3
   },
   "file_extension": ".py",
   "mimetype": "text/x-python",
   "name": "python",
   "nbconvert_exporter": "python",
   "pygments_lexer": "ipython3",
   "version": "3.6.4"
  }
 },
 "nbformat": 4,
 "nbformat_minor": 2
}
